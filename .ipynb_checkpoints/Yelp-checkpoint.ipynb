{
 "cells": [
  {
   "cell_type": "markdown",
   "id": "ab95f4de",
   "metadata": {},
   "source": [
    "# Imports"
   ]
  },
  {
   "cell_type": "code",
   "execution_count": 1,
   "id": "2f24766b",
   "metadata": {},
   "outputs": [
    {
     "data": {
      "text/plain": [
       "dict_keys(['client-id', 'api-key'])"
      ]
     },
     "execution_count": 1,
     "metadata": {},
     "output_type": "execute_result"
    }
   ],
   "source": [
    "#importing json and api login\n",
    "import pandas as pd\n",
    "import json\n",
    "with open(r\"\\Users\\camer\\OneDrive\\Documents\\GitHub\\dojo-env-setup\\.secret\\yelp_api.json\") as f:\n",
    "    login = json.load(f)\n",
    "    \n",
    "login.keys()\n"
   ]
  },
  {
   "cell_type": "code",
   "execution_count": 2,
   "id": "f0758392",
   "metadata": {},
   "outputs": [
    {
     "data": {
      "text/plain": [
       "<yelpapi.yelpapi.YelpAPI at 0x201b79097f0>"
      ]
     },
     "execution_count": 2,
     "metadata": {},
     "output_type": "execute_result"
    }
   ],
   "source": [
    "#importing yelp api\n",
    "from yelpapi import YelpAPI\n",
    "yelp_api = YelpAPI(login['api-key'], timeout_s=5.0)\n",
    "yelp_api"
   ]
  },
  {
   "cell_type": "markdown",
   "id": "6c8fa5eb",
   "metadata": {},
   "source": [
    "# First Yelp DF"
   ]
  },
  {
   "cell_type": "code",
   "execution_count": 4,
   "id": "b9984dc2",
   "metadata": {},
   "outputs": [
    {
     "name": "stdout",
     "output_type": "stream",
     "text": [
      "<class 'dict'>\n"
     ]
    },
    {
     "data": {
      "text/plain": [
       "dict_keys(['businesses', 'total', 'region'])"
      ]
     },
     "execution_count": 4,
     "metadata": {},
     "output_type": "execute_result"
    }
   ],
   "source": [
    "#searching Boston Sushi in API\n",
    "sushi = yelp_api.search_query(location='Boston, MA',\n",
    "                                term='Sushi',\n",
    "                                offset=20)\n",
    "print(type(sushi))\n",
    "sushi.keys()"
   ]
  },
  {
   "cell_type": "code",
   "execution_count": 5,
   "id": "d69ef6f8",
   "metadata": {
    "scrolled": true
   },
   "outputs": [
    {
     "data": {
      "text/html": [
       "<div>\n",
       "<style scoped>\n",
       "    .dataframe tbody tr th:only-of-type {\n",
       "        vertical-align: middle;\n",
       "    }\n",
       "\n",
       "    .dataframe tbody tr th {\n",
       "        vertical-align: top;\n",
       "    }\n",
       "\n",
       "    .dataframe thead th {\n",
       "        text-align: right;\n",
       "    }\n",
       "</style>\n",
       "<table border=\"1\" class=\"dataframe\">\n",
       "  <thead>\n",
       "    <tr style=\"text-align: right;\">\n",
       "      <th></th>\n",
       "      <th>id</th>\n",
       "      <th>alias</th>\n",
       "      <th>name</th>\n",
       "      <th>image_url</th>\n",
       "      <th>is_closed</th>\n",
       "      <th>url</th>\n",
       "      <th>review_count</th>\n",
       "      <th>categories</th>\n",
       "      <th>rating</th>\n",
       "      <th>coordinates</th>\n",
       "      <th>transactions</th>\n",
       "      <th>price</th>\n",
       "      <th>location</th>\n",
       "      <th>phone</th>\n",
       "      <th>display_phone</th>\n",
       "      <th>distance</th>\n",
       "    </tr>\n",
       "  </thead>\n",
       "  <tbody>\n",
       "    <tr>\n",
       "      <th>0</th>\n",
       "      <td>JO1aGVtB0TYtunc4Km_-Dg</td>\n",
       "      <td>koy-boston</td>\n",
       "      <td>Koy</td>\n",
       "      <td>https://s3-media1.fl.yelpcdn.com/bphoto/v0b4D2...</td>\n",
       "      <td>False</td>\n",
       "      <td>https://www.yelp.com/biz/koy-boston?adjust_cre...</td>\n",
       "      <td>624</td>\n",
       "      <td>[{'alias': 'korean', 'title': 'Korean'}, {'ali...</td>\n",
       "      <td>4.0</td>\n",
       "      <td>{'latitude': 42.3605931357964, 'longitude': -7...</td>\n",
       "      <td>[pickup, delivery]</td>\n",
       "      <td>$$</td>\n",
       "      <td>{'address1': '16 North St', 'address2': None, ...</td>\n",
       "      <td>+18579911483</td>\n",
       "      <td>(857) 991-1483</td>\n",
       "      <td>1877.141413</td>\n",
       "    </tr>\n",
       "    <tr>\n",
       "      <th>1</th>\n",
       "      <td>GfuDpypk9ekc8OsMRTMJ0A</td>\n",
       "      <td>north-end-fish-market-boston-3</td>\n",
       "      <td>North End Fish Market</td>\n",
       "      <td>https://s3-media1.fl.yelpcdn.com/bphoto/BvuWok...</td>\n",
       "      <td>False</td>\n",
       "      <td>https://www.yelp.com/biz/north-end-fish-market...</td>\n",
       "      <td>347</td>\n",
       "      <td>[{'alias': 'sushi', 'title': 'Sushi Bars'}, {'...</td>\n",
       "      <td>4.5</td>\n",
       "      <td>{'latitude': 42.36392, 'longitude': -71.0555399}</td>\n",
       "      <td>[pickup, delivery]</td>\n",
       "      <td>$$</td>\n",
       "      <td>{'address1': '99 Salem St', 'address2': '', 'a...</td>\n",
       "      <td>+18573627477</td>\n",
       "      <td>(857) 362-7477</td>\n",
       "      <td>2205.720360</td>\n",
       "    </tr>\n",
       "    <tr>\n",
       "      <th>2</th>\n",
       "      <td>qBDpPs3Wg7EmUI5XGeUEdA</td>\n",
       "      <td>fugakyu-japanese-cuisine-brookline-brookline-2</td>\n",
       "      <td>FuGaKyu Japanese Cuisine - Brookline</td>\n",
       "      <td>https://s3-media2.fl.yelpcdn.com/bphoto/akIRmg...</td>\n",
       "      <td>False</td>\n",
       "      <td>https://www.yelp.com/biz/fugakyu-japanese-cuis...</td>\n",
       "      <td>1309</td>\n",
       "      <td>[{'alias': 'sushi', 'title': 'Sushi Bars'}, {'...</td>\n",
       "      <td>4.0</td>\n",
       "      <td>{'latitude': 42.342954, 'longitude': -71.11937...</td>\n",
       "      <td>[pickup, delivery]</td>\n",
       "      <td>$$</td>\n",
       "      <td>{'address1': '1280 Beacon St', 'address2': Non...</td>\n",
       "      <td>+16177341268</td>\n",
       "      <td>(617) 734-1268</td>\n",
       "      <td>3992.780230</td>\n",
       "    </tr>\n",
       "    <tr>\n",
       "      <th>3</th>\n",
       "      <td>Jmyya_ylt3Bks4NTcyWgEg</td>\n",
       "      <td>zuma-boston-2</td>\n",
       "      <td>Zuma</td>\n",
       "      <td>https://s3-media4.fl.yelpcdn.com/bphoto/bBxf_-...</td>\n",
       "      <td>False</td>\n",
       "      <td>https://www.yelp.com/biz/zuma-boston-2?adjust_...</td>\n",
       "      <td>249</td>\n",
       "      <td>[{'alias': 'japanese', 'title': 'Japanese'}, {...</td>\n",
       "      <td>4.0</td>\n",
       "      <td>{'latitude': 42.345828481934674, 'longitude': ...</td>\n",
       "      <td>[pickup, delivery]</td>\n",
       "      <td>$$$$</td>\n",
       "      <td>{'address1': '1 Dalton St', 'address2': 'Fl 2'...</td>\n",
       "      <td>+18574492500</td>\n",
       "      <td>(857) 449-2500</td>\n",
       "      <td>1072.408252</td>\n",
       "    </tr>\n",
       "    <tr>\n",
       "      <th>4</th>\n",
       "      <td>QXdEeuL4cA_KcGMrh5o5rA</td>\n",
       "      <td>sakanaya-boston-newton</td>\n",
       "      <td>Sakanaya Boston</td>\n",
       "      <td>https://s3-media4.fl.yelpcdn.com/bphoto/fWSz64...</td>\n",
       "      <td>False</td>\n",
       "      <td>https://www.yelp.com/biz/sakanaya-boston-newto...</td>\n",
       "      <td>201</td>\n",
       "      <td>[{'alias': 'seafood', 'title': 'Seafood'}, {'a...</td>\n",
       "      <td>4.5</td>\n",
       "      <td>{'latitude': 42.3646105, 'longitude': -71.1977...</td>\n",
       "      <td>[]</td>\n",
       "      <td>$$</td>\n",
       "      <td>{'address1': '232 California St', 'address2': ...</td>\n",
       "      <td>+16172540009</td>\n",
       "      <td>(617) 254-0009</td>\n",
       "      <td>10560.199868</td>\n",
       "    </tr>\n",
       "  </tbody>\n",
       "</table>\n",
       "</div>"
      ],
      "text/plain": [
       "                       id                                           alias  \\\n",
       "0  JO1aGVtB0TYtunc4Km_-Dg                                      koy-boston   \n",
       "1  GfuDpypk9ekc8OsMRTMJ0A                  north-end-fish-market-boston-3   \n",
       "2  qBDpPs3Wg7EmUI5XGeUEdA  fugakyu-japanese-cuisine-brookline-brookline-2   \n",
       "3  Jmyya_ylt3Bks4NTcyWgEg                                   zuma-boston-2   \n",
       "4  QXdEeuL4cA_KcGMrh5o5rA                          sakanaya-boston-newton   \n",
       "\n",
       "                                   name  \\\n",
       "0                                   Koy   \n",
       "1                 North End Fish Market   \n",
       "2  FuGaKyu Japanese Cuisine - Brookline   \n",
       "3                                  Zuma   \n",
       "4                       Sakanaya Boston   \n",
       "\n",
       "                                           image_url  is_closed  \\\n",
       "0  https://s3-media1.fl.yelpcdn.com/bphoto/v0b4D2...      False   \n",
       "1  https://s3-media1.fl.yelpcdn.com/bphoto/BvuWok...      False   \n",
       "2  https://s3-media2.fl.yelpcdn.com/bphoto/akIRmg...      False   \n",
       "3  https://s3-media4.fl.yelpcdn.com/bphoto/bBxf_-...      False   \n",
       "4  https://s3-media4.fl.yelpcdn.com/bphoto/fWSz64...      False   \n",
       "\n",
       "                                                 url  review_count  \\\n",
       "0  https://www.yelp.com/biz/koy-boston?adjust_cre...           624   \n",
       "1  https://www.yelp.com/biz/north-end-fish-market...           347   \n",
       "2  https://www.yelp.com/biz/fugakyu-japanese-cuis...          1309   \n",
       "3  https://www.yelp.com/biz/zuma-boston-2?adjust_...           249   \n",
       "4  https://www.yelp.com/biz/sakanaya-boston-newto...           201   \n",
       "\n",
       "                                          categories  rating  \\\n",
       "0  [{'alias': 'korean', 'title': 'Korean'}, {'ali...     4.0   \n",
       "1  [{'alias': 'sushi', 'title': 'Sushi Bars'}, {'...     4.5   \n",
       "2  [{'alias': 'sushi', 'title': 'Sushi Bars'}, {'...     4.0   \n",
       "3  [{'alias': 'japanese', 'title': 'Japanese'}, {...     4.0   \n",
       "4  [{'alias': 'seafood', 'title': 'Seafood'}, {'a...     4.5   \n",
       "\n",
       "                                         coordinates        transactions  \\\n",
       "0  {'latitude': 42.3605931357964, 'longitude': -7...  [pickup, delivery]   \n",
       "1   {'latitude': 42.36392, 'longitude': -71.0555399}  [pickup, delivery]   \n",
       "2  {'latitude': 42.342954, 'longitude': -71.11937...  [pickup, delivery]   \n",
       "3  {'latitude': 42.345828481934674, 'longitude': ...  [pickup, delivery]   \n",
       "4  {'latitude': 42.3646105, 'longitude': -71.1977...                  []   \n",
       "\n",
       "  price                                           location         phone  \\\n",
       "0    $$  {'address1': '16 North St', 'address2': None, ...  +18579911483   \n",
       "1    $$  {'address1': '99 Salem St', 'address2': '', 'a...  +18573627477   \n",
       "2    $$  {'address1': '1280 Beacon St', 'address2': Non...  +16177341268   \n",
       "3  $$$$  {'address1': '1 Dalton St', 'address2': 'Fl 2'...  +18574492500   \n",
       "4    $$  {'address1': '232 California St', 'address2': ...  +16172540009   \n",
       "\n",
       "    display_phone      distance  \n",
       "0  (857) 991-1483   1877.141413  \n",
       "1  (857) 362-7477   2205.720360  \n",
       "2  (617) 734-1268   3992.780230  \n",
       "3  (857) 449-2500   1072.408252  \n",
       "4  (617) 254-0009  10560.199868  "
      ]
     },
     "execution_count": 5,
     "metadata": {},
     "output_type": "execute_result"
    }
   ],
   "source": [
    "#creating dataframe for boston sushi \n",
    "bostonsushi = pd.DataFrame(sushi['businesses'])\n",
    "bostonsushi.head()"
   ]
  },
  {
   "cell_type": "code",
   "execution_count": 7,
   "id": "ef7f2ca7",
   "metadata": {},
   "outputs": [
    {
     "data": {
      "text/plain": [
       "641"
      ]
     },
     "execution_count": 7,
     "metadata": {},
     "output_type": "execute_result"
    }
   ],
   "source": [
    "#checking total\n",
    "sushi['total']"
   ]
  },
  {
   "cell_type": "markdown",
   "id": "6257c514",
   "metadata": {},
   "source": [
    "# Second Yelp DF"
   ]
  },
  {
   "cell_type": "code",
   "execution_count": 8,
   "id": "9af20539",
   "metadata": {},
   "outputs": [
    {
     "name": "stdout",
     "output_type": "stream",
     "text": [
      "<class 'dict'>\n"
     ]
    },
    {
     "data": {
      "text/plain": [
       "dict_keys(['businesses', 'total', 'region'])"
      ]
     },
     "execution_count": 8,
     "metadata": {},
     "output_type": "execute_result"
    }
   ],
   "source": [
    "#creating second dataframe\n",
    "sushi2 = yelp_api.search_query(location='New York, NY',\n",
    "                                    term='Sushi',\n",
    "                                    offset=20)\n",
    "print(type(sushi2))\n",
    "sushi2.keys()"
   ]
  },
  {
   "cell_type": "code",
   "execution_count": 9,
   "id": "5c402059",
   "metadata": {},
   "outputs": [
    {
     "data": {
      "text/html": [
       "<div>\n",
       "<style scoped>\n",
       "    .dataframe tbody tr th:only-of-type {\n",
       "        vertical-align: middle;\n",
       "    }\n",
       "\n",
       "    .dataframe tbody tr th {\n",
       "        vertical-align: top;\n",
       "    }\n",
       "\n",
       "    .dataframe thead th {\n",
       "        text-align: right;\n",
       "    }\n",
       "</style>\n",
       "<table border=\"1\" class=\"dataframe\">\n",
       "  <thead>\n",
       "    <tr style=\"text-align: right;\">\n",
       "      <th></th>\n",
       "      <th>id</th>\n",
       "      <th>alias</th>\n",
       "      <th>name</th>\n",
       "      <th>image_url</th>\n",
       "      <th>is_closed</th>\n",
       "      <th>url</th>\n",
       "      <th>review_count</th>\n",
       "      <th>categories</th>\n",
       "      <th>rating</th>\n",
       "      <th>coordinates</th>\n",
       "      <th>transactions</th>\n",
       "      <th>price</th>\n",
       "      <th>location</th>\n",
       "      <th>phone</th>\n",
       "      <th>display_phone</th>\n",
       "      <th>distance</th>\n",
       "    </tr>\n",
       "  </thead>\n",
       "  <tbody>\n",
       "    <tr>\n",
       "      <th>0</th>\n",
       "      <td>T2fE7hGS83Ba-QNCOqbK4A</td>\n",
       "      <td>ako-brooklyn-5</td>\n",
       "      <td>Ako</td>\n",
       "      <td>https://s3-media3.fl.yelpcdn.com/bphoto/XG4n3k...</td>\n",
       "      <td>False</td>\n",
       "      <td>https://www.yelp.com/biz/ako-brooklyn-5?adjust...</td>\n",
       "      <td>488</td>\n",
       "      <td>[{'alias': 'sushi', 'title': 'Sushi Bars'}, {'...</td>\n",
       "      <td>4.0</td>\n",
       "      <td>{'latitude': 40.7168599, 'longitude': -73.95845}</td>\n",
       "      <td>[pickup, delivery]</td>\n",
       "      <td>$$</td>\n",
       "      <td>{'address1': '205 Bedford Ave', 'address2': ''...</td>\n",
       "      <td>+17183022035</td>\n",
       "      <td>(718) 302-2035</td>\n",
       "      <td>3275.340513</td>\n",
       "    </tr>\n",
       "    <tr>\n",
       "      <th>1</th>\n",
       "      <td>KxOAVoyJ55G-gEQqhnBpAQ</td>\n",
       "      <td>daigo-handroll-bar-brooklyn</td>\n",
       "      <td>Daigo Handroll Bar</td>\n",
       "      <td>https://s3-media1.fl.yelpcdn.com/bphoto/AwuuAL...</td>\n",
       "      <td>False</td>\n",
       "      <td>https://www.yelp.com/biz/daigo-handroll-bar-br...</td>\n",
       "      <td>117</td>\n",
       "      <td>[{'alias': 'sushi', 'title': 'Sushi Bars'}]</td>\n",
       "      <td>4.5</td>\n",
       "      <td>{'latitude': 40.690884, 'longitude': -73.982863}</td>\n",
       "      <td>[pickup, delivery]</td>\n",
       "      <td>$$</td>\n",
       "      <td>{'address1': '445 Albee Sq', 'address2': None,...</td>\n",
       "      <td></td>\n",
       "      <td></td>\n",
       "      <td>1884.140648</td>\n",
       "    </tr>\n",
       "    <tr>\n",
       "      <th>2</th>\n",
       "      <td>dCDpb-fz6Ton9AXLoaWIhA</td>\n",
       "      <td>momoya-soho-new-york</td>\n",
       "      <td>Momoya SoHo</td>\n",
       "      <td>https://s3-media1.fl.yelpcdn.com/bphoto/-GoNQs...</td>\n",
       "      <td>False</td>\n",
       "      <td>https://www.yelp.com/biz/momoya-soho-new-york?...</td>\n",
       "      <td>90</td>\n",
       "      <td>[{'alias': 'sushi', 'title': 'Sushi Bars'}]</td>\n",
       "      <td>4.0</td>\n",
       "      <td>{'latitude': 40.72349, 'longitude': -73.99579}</td>\n",
       "      <td>[restaurant_reservation]</td>\n",
       "      <td>NaN</td>\n",
       "      <td>{'address1': '47 Prince St', 'address2': '', '...</td>\n",
       "      <td>+16464299315</td>\n",
       "      <td>(646) 429-9315</td>\n",
       "      <td>2015.999510</td>\n",
       "    </tr>\n",
       "    <tr>\n",
       "      <th>3</th>\n",
       "      <td>pou1-d7PENs6AD4mnt9P4g</td>\n",
       "      <td>sushi-w-new-york</td>\n",
       "      <td>Sushi W</td>\n",
       "      <td>https://s3-media4.fl.yelpcdn.com/bphoto/aTz6nM...</td>\n",
       "      <td>False</td>\n",
       "      <td>https://www.yelp.com/biz/sushi-w-new-york?adju...</td>\n",
       "      <td>117</td>\n",
       "      <td>[{'alias': 'japanese', 'title': 'Japanese'}, {...</td>\n",
       "      <td>4.5</td>\n",
       "      <td>{'latitude': 40.79837, 'longitude': -73.96941}</td>\n",
       "      <td>[]</td>\n",
       "      <td>NaN</td>\n",
       "      <td>{'address1': '2673 Broadway', 'address2': '', ...</td>\n",
       "      <td>+19173189739</td>\n",
       "      <td>(917) 318-9739</td>\n",
       "      <td>10552.517781</td>\n",
       "    </tr>\n",
       "    <tr>\n",
       "      <th>4</th>\n",
       "      <td>uCXsqMEfD12Rlmp1H09_Nw</td>\n",
       "      <td>omakase-sushi-dairo-new-york</td>\n",
       "      <td>Omakase Sushi Dairo</td>\n",
       "      <td>https://s3-media3.fl.yelpcdn.com/bphoto/_WqZQV...</td>\n",
       "      <td>False</td>\n",
       "      <td>https://www.yelp.com/biz/omakase-sushi-dairo-n...</td>\n",
       "      <td>66</td>\n",
       "      <td>[{'alias': 'japanese', 'title': 'Japanese'}, {...</td>\n",
       "      <td>5.0</td>\n",
       "      <td>{'latitude': 40.73601, 'longitude': -73.98542}</td>\n",
       "      <td>[restaurant_reservation, pickup, delivery]</td>\n",
       "      <td>NaN</td>\n",
       "      <td>{'address1': '208 3rd Ave', 'address2': None, ...</td>\n",
       "      <td>+12125294193</td>\n",
       "      <td>(212) 529-4193</td>\n",
       "      <td>3481.364854</td>\n",
       "    </tr>\n",
       "  </tbody>\n",
       "</table>\n",
       "</div>"
      ],
      "text/plain": [
       "                       id                         alias                 name  \\\n",
       "0  T2fE7hGS83Ba-QNCOqbK4A                ako-brooklyn-5                  Ako   \n",
       "1  KxOAVoyJ55G-gEQqhnBpAQ   daigo-handroll-bar-brooklyn   Daigo Handroll Bar   \n",
       "2  dCDpb-fz6Ton9AXLoaWIhA          momoya-soho-new-york          Momoya SoHo   \n",
       "3  pou1-d7PENs6AD4mnt9P4g              sushi-w-new-york              Sushi W   \n",
       "4  uCXsqMEfD12Rlmp1H09_Nw  omakase-sushi-dairo-new-york  Omakase Sushi Dairo   \n",
       "\n",
       "                                           image_url  is_closed  \\\n",
       "0  https://s3-media3.fl.yelpcdn.com/bphoto/XG4n3k...      False   \n",
       "1  https://s3-media1.fl.yelpcdn.com/bphoto/AwuuAL...      False   \n",
       "2  https://s3-media1.fl.yelpcdn.com/bphoto/-GoNQs...      False   \n",
       "3  https://s3-media4.fl.yelpcdn.com/bphoto/aTz6nM...      False   \n",
       "4  https://s3-media3.fl.yelpcdn.com/bphoto/_WqZQV...      False   \n",
       "\n",
       "                                                 url  review_count  \\\n",
       "0  https://www.yelp.com/biz/ako-brooklyn-5?adjust...           488   \n",
       "1  https://www.yelp.com/biz/daigo-handroll-bar-br...           117   \n",
       "2  https://www.yelp.com/biz/momoya-soho-new-york?...            90   \n",
       "3  https://www.yelp.com/biz/sushi-w-new-york?adju...           117   \n",
       "4  https://www.yelp.com/biz/omakase-sushi-dairo-n...            66   \n",
       "\n",
       "                                          categories  rating  \\\n",
       "0  [{'alias': 'sushi', 'title': 'Sushi Bars'}, {'...     4.0   \n",
       "1        [{'alias': 'sushi', 'title': 'Sushi Bars'}]     4.5   \n",
       "2        [{'alias': 'sushi', 'title': 'Sushi Bars'}]     4.0   \n",
       "3  [{'alias': 'japanese', 'title': 'Japanese'}, {...     4.5   \n",
       "4  [{'alias': 'japanese', 'title': 'Japanese'}, {...     5.0   \n",
       "\n",
       "                                        coordinates  \\\n",
       "0  {'latitude': 40.7168599, 'longitude': -73.95845}   \n",
       "1  {'latitude': 40.690884, 'longitude': -73.982863}   \n",
       "2    {'latitude': 40.72349, 'longitude': -73.99579}   \n",
       "3    {'latitude': 40.79837, 'longitude': -73.96941}   \n",
       "4    {'latitude': 40.73601, 'longitude': -73.98542}   \n",
       "\n",
       "                                 transactions price  \\\n",
       "0                          [pickup, delivery]    $$   \n",
       "1                          [pickup, delivery]    $$   \n",
       "2                    [restaurant_reservation]   NaN   \n",
       "3                                          []   NaN   \n",
       "4  [restaurant_reservation, pickup, delivery]   NaN   \n",
       "\n",
       "                                            location         phone  \\\n",
       "0  {'address1': '205 Bedford Ave', 'address2': ''...  +17183022035   \n",
       "1  {'address1': '445 Albee Sq', 'address2': None,...                 \n",
       "2  {'address1': '47 Prince St', 'address2': '', '...  +16464299315   \n",
       "3  {'address1': '2673 Broadway', 'address2': '', ...  +19173189739   \n",
       "4  {'address1': '208 3rd Ave', 'address2': None, ...  +12125294193   \n",
       "\n",
       "    display_phone      distance  \n",
       "0  (718) 302-2035   3275.340513  \n",
       "1                   1884.140648  \n",
       "2  (646) 429-9315   2015.999510  \n",
       "3  (917) 318-9739  10552.517781  \n",
       "4  (212) 529-4193   3481.364854  "
      ]
     },
     "execution_count": 9,
     "metadata": {},
     "output_type": "execute_result"
    }
   ],
   "source": [
    "nysushi = pd.DataFrame(sushi2['businesses'])\n",
    "nysushi.head()"
   ]
  },
  {
   "cell_type": "markdown",
   "id": "2c5ff5c8",
   "metadata": {},
   "source": [
    "# Concatenate DFs"
   ]
  },
  {
   "cell_type": "code",
   "execution_count": 12,
   "id": "f6766aaf",
   "metadata": {},
   "outputs": [
    {
     "ename": "TypeError",
     "evalue": "cannot concatenate object of type '<class 'str'>'; only Series and DataFrame objs are valid",
     "output_type": "error",
     "traceback": [
      "\u001b[1;31m---------------------------------------------------------------------------\u001b[0m",
      "\u001b[1;31mTypeError\u001b[0m                                 Traceback (most recent call last)",
      "Cell \u001b[1;32mIn [12], line 2\u001b[0m\n\u001b[0;32m      1\u001b[0m \u001b[38;5;66;03m#combining dataframes\u001b[39;00m\n\u001b[1;32m----> 2\u001b[0m allsushi\u001b[38;5;241m=\u001b[39m \u001b[43mpd\u001b[49m\u001b[38;5;241;43m.\u001b[39;49m\u001b[43mconcat\u001b[49m\u001b[43m(\u001b[49m\u001b[43m[\u001b[49m\u001b[38;5;124;43m'\u001b[39;49m\u001b[38;5;124;43mbostonsushi\u001b[39;49m\u001b[38;5;124;43m'\u001b[39;49m\u001b[43m,\u001b[49m\u001b[43m \u001b[49m\u001b[38;5;124;43m'\u001b[39;49m\u001b[38;5;124;43mnysushi\u001b[39;49m\u001b[38;5;124;43m'\u001b[39;49m\u001b[43m]\u001b[49m\u001b[43m,\u001b[49m\n\u001b[0;32m      3\u001b[0m \u001b[43m                    \u001b[49m\u001b[43mignore_index\u001b[49m\u001b[38;5;241;43m=\u001b[39;49m\u001b[38;5;28;43;01mTrue\u001b[39;49;00m\u001b[43m)\u001b[49m\n\u001b[0;32m      5\u001b[0m display(allsushi\u001b[38;5;241m.\u001b[39mhead(\u001b[38;5;241m3\u001b[39m), allsushi\u001b[38;5;241m.\u001b[39mtail(\u001b[38;5;241m3\u001b[39m))\n",
      "File \u001b[1;32m~\\anaconda3\\envs\\dojo-env\\lib\\site-packages\\pandas\\util\\_decorators.py:311\u001b[0m, in \u001b[0;36mdeprecate_nonkeyword_arguments.<locals>.decorate.<locals>.wrapper\u001b[1;34m(*args, **kwargs)\u001b[0m\n\u001b[0;32m    305\u001b[0m \u001b[38;5;28;01mif\u001b[39;00m \u001b[38;5;28mlen\u001b[39m(args) \u001b[38;5;241m>\u001b[39m num_allow_args:\n\u001b[0;32m    306\u001b[0m     warnings\u001b[38;5;241m.\u001b[39mwarn(\n\u001b[0;32m    307\u001b[0m         msg\u001b[38;5;241m.\u001b[39mformat(arguments\u001b[38;5;241m=\u001b[39marguments),\n\u001b[0;32m    308\u001b[0m         \u001b[38;5;167;01mFutureWarning\u001b[39;00m,\n\u001b[0;32m    309\u001b[0m         stacklevel\u001b[38;5;241m=\u001b[39mstacklevel,\n\u001b[0;32m    310\u001b[0m     )\n\u001b[1;32m--> 311\u001b[0m \u001b[38;5;28;01mreturn\u001b[39;00m \u001b[43mfunc\u001b[49m\u001b[43m(\u001b[49m\u001b[38;5;241;43m*\u001b[39;49m\u001b[43margs\u001b[49m\u001b[43m,\u001b[49m\u001b[43m \u001b[49m\u001b[38;5;241;43m*\u001b[39;49m\u001b[38;5;241;43m*\u001b[39;49m\u001b[43mkwargs\u001b[49m\u001b[43m)\u001b[49m\n",
      "File \u001b[1;32m~\\anaconda3\\envs\\dojo-env\\lib\\site-packages\\pandas\\core\\reshape\\concat.py:347\u001b[0m, in \u001b[0;36mconcat\u001b[1;34m(objs, axis, join, ignore_index, keys, levels, names, verify_integrity, sort, copy)\u001b[0m\n\u001b[0;32m    143\u001b[0m \u001b[38;5;129m@deprecate_nonkeyword_arguments\u001b[39m(version\u001b[38;5;241m=\u001b[39m\u001b[38;5;28;01mNone\u001b[39;00m, allowed_args\u001b[38;5;241m=\u001b[39m[\u001b[38;5;124m\"\u001b[39m\u001b[38;5;124mobjs\u001b[39m\u001b[38;5;124m\"\u001b[39m])\n\u001b[0;32m    144\u001b[0m \u001b[38;5;28;01mdef\u001b[39;00m \u001b[38;5;21mconcat\u001b[39m(\n\u001b[0;32m    145\u001b[0m     objs: Iterable[NDFrame] \u001b[38;5;241m|\u001b[39m Mapping[Hashable, NDFrame],\n\u001b[1;32m   (...)\u001b[0m\n\u001b[0;32m    154\u001b[0m     copy: \u001b[38;5;28mbool\u001b[39m \u001b[38;5;241m=\u001b[39m \u001b[38;5;28;01mTrue\u001b[39;00m,\n\u001b[0;32m    155\u001b[0m ) \u001b[38;5;241m-\u001b[39m\u001b[38;5;241m>\u001b[39m DataFrame \u001b[38;5;241m|\u001b[39m Series:\n\u001b[0;32m    156\u001b[0m     \u001b[38;5;124;03m\"\"\"\u001b[39;00m\n\u001b[0;32m    157\u001b[0m \u001b[38;5;124;03m    Concatenate pandas objects along a particular axis with optional set logic\u001b[39;00m\n\u001b[0;32m    158\u001b[0m \u001b[38;5;124;03m    along the other axes.\u001b[39;00m\n\u001b[1;32m   (...)\u001b[0m\n\u001b[0;32m    345\u001b[0m \u001b[38;5;124;03m    ValueError: Indexes have overlapping values: ['a']\u001b[39;00m\n\u001b[0;32m    346\u001b[0m \u001b[38;5;124;03m    \"\"\"\u001b[39;00m\n\u001b[1;32m--> 347\u001b[0m     op \u001b[38;5;241m=\u001b[39m \u001b[43m_Concatenator\u001b[49m\u001b[43m(\u001b[49m\n\u001b[0;32m    348\u001b[0m \u001b[43m        \u001b[49m\u001b[43mobjs\u001b[49m\u001b[43m,\u001b[49m\n\u001b[0;32m    349\u001b[0m \u001b[43m        \u001b[49m\u001b[43maxis\u001b[49m\u001b[38;5;241;43m=\u001b[39;49m\u001b[43maxis\u001b[49m\u001b[43m,\u001b[49m\n\u001b[0;32m    350\u001b[0m \u001b[43m        \u001b[49m\u001b[43mignore_index\u001b[49m\u001b[38;5;241;43m=\u001b[39;49m\u001b[43mignore_index\u001b[49m\u001b[43m,\u001b[49m\n\u001b[0;32m    351\u001b[0m \u001b[43m        \u001b[49m\u001b[43mjoin\u001b[49m\u001b[38;5;241;43m=\u001b[39;49m\u001b[43mjoin\u001b[49m\u001b[43m,\u001b[49m\n\u001b[0;32m    352\u001b[0m \u001b[43m        \u001b[49m\u001b[43mkeys\u001b[49m\u001b[38;5;241;43m=\u001b[39;49m\u001b[43mkeys\u001b[49m\u001b[43m,\u001b[49m\n\u001b[0;32m    353\u001b[0m \u001b[43m        \u001b[49m\u001b[43mlevels\u001b[49m\u001b[38;5;241;43m=\u001b[39;49m\u001b[43mlevels\u001b[49m\u001b[43m,\u001b[49m\n\u001b[0;32m    354\u001b[0m \u001b[43m        \u001b[49m\u001b[43mnames\u001b[49m\u001b[38;5;241;43m=\u001b[39;49m\u001b[43mnames\u001b[49m\u001b[43m,\u001b[49m\n\u001b[0;32m    355\u001b[0m \u001b[43m        \u001b[49m\u001b[43mverify_integrity\u001b[49m\u001b[38;5;241;43m=\u001b[39;49m\u001b[43mverify_integrity\u001b[49m\u001b[43m,\u001b[49m\n\u001b[0;32m    356\u001b[0m \u001b[43m        \u001b[49m\u001b[43mcopy\u001b[49m\u001b[38;5;241;43m=\u001b[39;49m\u001b[43mcopy\u001b[49m\u001b[43m,\u001b[49m\n\u001b[0;32m    357\u001b[0m \u001b[43m        \u001b[49m\u001b[43msort\u001b[49m\u001b[38;5;241;43m=\u001b[39;49m\u001b[43msort\u001b[49m\u001b[43m,\u001b[49m\n\u001b[0;32m    358\u001b[0m \u001b[43m    \u001b[49m\u001b[43m)\u001b[49m\n\u001b[0;32m    360\u001b[0m     \u001b[38;5;28;01mreturn\u001b[39;00m op\u001b[38;5;241m.\u001b[39mget_result()\n",
      "File \u001b[1;32m~\\anaconda3\\envs\\dojo-env\\lib\\site-packages\\pandas\\core\\reshape\\concat.py:437\u001b[0m, in \u001b[0;36m_Concatenator.__init__\u001b[1;34m(self, objs, axis, join, keys, levels, names, ignore_index, verify_integrity, copy, sort)\u001b[0m\n\u001b[0;32m    432\u001b[0m     \u001b[38;5;28;01mif\u001b[39;00m \u001b[38;5;129;01mnot\u001b[39;00m \u001b[38;5;28misinstance\u001b[39m(obj, (ABCSeries, ABCDataFrame)):\n\u001b[0;32m    433\u001b[0m         msg \u001b[38;5;241m=\u001b[39m (\n\u001b[0;32m    434\u001b[0m             \u001b[38;5;124mf\u001b[39m\u001b[38;5;124m\"\u001b[39m\u001b[38;5;124mcannot concatenate object of type \u001b[39m\u001b[38;5;124m'\u001b[39m\u001b[38;5;132;01m{\u001b[39;00m\u001b[38;5;28mtype\u001b[39m(obj)\u001b[38;5;132;01m}\u001b[39;00m\u001b[38;5;124m'\u001b[39m\u001b[38;5;124m; \u001b[39m\u001b[38;5;124m\"\u001b[39m\n\u001b[0;32m    435\u001b[0m             \u001b[38;5;124m\"\u001b[39m\u001b[38;5;124monly Series and DataFrame objs are valid\u001b[39m\u001b[38;5;124m\"\u001b[39m\n\u001b[0;32m    436\u001b[0m         )\n\u001b[1;32m--> 437\u001b[0m         \u001b[38;5;28;01mraise\u001b[39;00m \u001b[38;5;167;01mTypeError\u001b[39;00m(msg)\n\u001b[0;32m    439\u001b[0m     ndims\u001b[38;5;241m.\u001b[39madd(obj\u001b[38;5;241m.\u001b[39mndim)\n\u001b[0;32m    441\u001b[0m \u001b[38;5;66;03m# get the sample\u001b[39;00m\n\u001b[0;32m    442\u001b[0m \u001b[38;5;66;03m# want the highest ndim that we have, and must be non-empty\u001b[39;00m\n\u001b[0;32m    443\u001b[0m \u001b[38;5;66;03m# unless all objs are empty\u001b[39;00m\n",
      "\u001b[1;31mTypeError\u001b[0m: cannot concatenate object of type '<class 'str'>'; only Series and DataFrame objs are valid"
     ]
    }
   ],
   "source": [
    "#combining dataframes\n",
    "allsushi= pd.concat(['bostonsushi', 'nysushi'],\n",
    "                    ignore_index=True)\n",
    "\n",
    "display(allsushi.head(3), allsushi.tail(3))"
   ]
  }
 ],
 "metadata": {
  "kernelspec": {
   "display_name": "Python (dojo-env)",
   "language": "python",
   "name": "dojo-env"
  },
  "language_info": {
   "codemirror_mode": {
    "name": "ipython",
    "version": 3
   },
   "file_extension": ".py",
   "mimetype": "text/x-python",
   "name": "python",
   "nbconvert_exporter": "python",
   "pygments_lexer": "ipython3",
   "version": "3.8.13"
  },
  "toc": {
   "base_numbering": 1,
   "nav_menu": {},
   "number_sections": true,
   "sideBar": true,
   "skip_h1_title": false,
   "title_cell": "Table of Contents",
   "title_sidebar": "Contents",
   "toc_cell": false,
   "toc_position": {},
   "toc_section_display": true,
   "toc_window_display": false
  }
 },
 "nbformat": 4,
 "nbformat_minor": 5
}
