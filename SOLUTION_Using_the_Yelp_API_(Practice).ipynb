{
 "cells": [
  {
   "cell_type": "markdown",
   "id": "7c8e07e0",
   "metadata": {
    "id": "7c8e07e0"
   },
   "source": [
    "Using the Yelp API Practice\n",
    "https://login.codingdojo.com/m/376/12529/88073 "
   ]
  },
  {
   "cell_type": "code",
   "execution_count": 1,
   "id": "d445cf1f",
   "metadata": {
    "id": "d445cf1f"
   },
   "outputs": [],
   "source": [
    "from yelpapi import YelpAPI\n",
    "import json\n",
    "import pandas as pd"
   ]
  },
  {
   "cell_type": "code",
   "execution_count": 2,
   "id": "076cb4c9",
   "metadata": {
    "id": "076cb4c9",
    "outputId": "3d65f104-f96f-4a66-ca6d-0716e49b6b3c"
   },
   "outputs": [],
   "source": [
    "# students must use their own username here instead of \"brend\"\n",
    "with open(r\"\\Users\\camer\\OneDrive\\Documents\\GitHub\\dojo-env-setup\\.secret\\yelp_api.json\") as f:\n",
    "    login = json.load(f)"
   ]
  },
  {
   "cell_type": "code",
   "execution_count": 3,
   "id": "1095d98a",
   "metadata": {
    "id": "1095d98a",
    "outputId": "0e7fa454-d350-4c28-cc2a-c768383bf315"
   },
   "outputs": [
    {
     "data": {
      "text/plain": [
       "<yelpapi.yelpapi.YelpAPI at 0x196dd92aa30>"
      ]
     },
     "execution_count": 3,
     "metadata": {},
     "output_type": "execute_result"
    }
   ],
   "source": [
    "yelp_api = YelpAPI(login['api-key'], timeout_s=5.0)\n",
    "yelp_api"
   ]
  },
  {
   "cell_type": "markdown",
   "id": "11322af3",
   "metadata": {
    "id": "11322af3"
   },
   "source": [
    "Students can choose any city and food for this task as long as it is more than 20 businesses long to show how pagination works"
   ]
  },
  {
   "cell_type": "code",
   "execution_count": 5,
   "id": "45ee32bd",
   "metadata": {
    "id": "45ee32bd",
    "outputId": "2c25f152-69af-44c8-8f3f-d9126a0591aa"
   },
   "outputs": [
    {
     "data": {
      "text/plain": [
       "dict_keys(['businesses', 'total', 'region'])"
      ]
     },
     "execution_count": 5,
     "metadata": {},
     "output_type": "execute_result"
    }
   ],
   "source": [
    "sushi_0 = yelp_api.search_query(location='Greenville, SC',\n",
    "                                       term='Sushi')\n",
    "type(sushi_0)\n",
    "sushi_0.keys()"
   ]
  },
  {
   "cell_type": "code",
   "execution_count": 6,
   "id": "0ff84aff",
   "metadata": {
    "id": "0ff84aff",
    "outputId": "8d4b753d-4392-4d85-ebc6-b8dab073650e"
   },
   "outputs": [
    {
     "data": {
      "text/html": [
       "<div>\n",
       "<style scoped>\n",
       "    .dataframe tbody tr th:only-of-type {\n",
       "        vertical-align: middle;\n",
       "    }\n",
       "\n",
       "    .dataframe tbody tr th {\n",
       "        vertical-align: top;\n",
       "    }\n",
       "\n",
       "    .dataframe thead th {\n",
       "        text-align: right;\n",
       "    }\n",
       "</style>\n",
       "<table border=\"1\" class=\"dataframe\">\n",
       "  <thead>\n",
       "    <tr style=\"text-align: right;\">\n",
       "      <th></th>\n",
       "      <th>id</th>\n",
       "      <th>alias</th>\n",
       "      <th>name</th>\n",
       "      <th>image_url</th>\n",
       "      <th>is_closed</th>\n",
       "      <th>url</th>\n",
       "      <th>review_count</th>\n",
       "      <th>categories</th>\n",
       "      <th>rating</th>\n",
       "      <th>coordinates</th>\n",
       "      <th>transactions</th>\n",
       "      <th>price</th>\n",
       "      <th>location</th>\n",
       "      <th>phone</th>\n",
       "      <th>display_phone</th>\n",
       "      <th>distance</th>\n",
       "    </tr>\n",
       "  </thead>\n",
       "  <tbody>\n",
       "    <tr>\n",
       "      <th>0</th>\n",
       "      <td>zG_XOAFi9Y560WJ1RvghBw</td>\n",
       "      <td>sushi-masa-japanese-restaurant-greenville</td>\n",
       "      <td>Sushi-Masa Japanese Restaurant</td>\n",
       "      <td>https://s3-media1.fl.yelpcdn.com/bphoto/zsRavZ...</td>\n",
       "      <td>False</td>\n",
       "      <td>https://www.yelp.com/biz/sushi-masa-japanese-r...</td>\n",
       "      <td>146</td>\n",
       "      <td>[{'alias': 'sushi', 'title': 'Sushi Bars'}]</td>\n",
       "      <td>4.5</td>\n",
       "      <td>{'latitude': 34.8512725830078, 'longitude': -8...</td>\n",
       "      <td>[delivery]</td>\n",
       "      <td>$$</td>\n",
       "      <td>{'address1': '8590 Pelham Rd', 'address2': 'St...</td>\n",
       "      <td>+18642882227</td>\n",
       "      <td>(864) 288-2227</td>\n",
       "      <td>11481.830881</td>\n",
       "    </tr>\n",
       "    <tr>\n",
       "      <th>1</th>\n",
       "      <td>RGRk1ioORwm_FIX8PM732Q</td>\n",
       "      <td>konnichiwa-greenville</td>\n",
       "      <td>Konnichiwa</td>\n",
       "      <td>https://s3-media3.fl.yelpcdn.com/bphoto/p47H0_...</td>\n",
       "      <td>False</td>\n",
       "      <td>https://www.yelp.com/biz/konnichiwa-greenville...</td>\n",
       "      <td>33</td>\n",
       "      <td>[{'alias': 'sushi', 'title': 'Sushi Bars'}, {'...</td>\n",
       "      <td>4.0</td>\n",
       "      <td>{'latitude': 34.845952342825115, 'longitude': ...</td>\n",
       "      <td>[]</td>\n",
       "      <td>NaN</td>\n",
       "      <td>{'address1': '101 Falls Park Dr', 'address2': ...</td>\n",
       "      <td>+18642524436</td>\n",
       "      <td>(864) 252-4436</td>\n",
       "      <td>4184.255183</td>\n",
       "    </tr>\n",
       "  </tbody>\n",
       "</table>\n",
       "</div>"
      ],
      "text/plain": [
       "                       id                                      alias  \\\n",
       "0  zG_XOAFi9Y560WJ1RvghBw  sushi-masa-japanese-restaurant-greenville   \n",
       "1  RGRk1ioORwm_FIX8PM732Q                      konnichiwa-greenville   \n",
       "\n",
       "                             name  \\\n",
       "0  Sushi-Masa Japanese Restaurant   \n",
       "1                      Konnichiwa   \n",
       "\n",
       "                                           image_url  is_closed  \\\n",
       "0  https://s3-media1.fl.yelpcdn.com/bphoto/zsRavZ...      False   \n",
       "1  https://s3-media3.fl.yelpcdn.com/bphoto/p47H0_...      False   \n",
       "\n",
       "                                                 url  review_count  \\\n",
       "0  https://www.yelp.com/biz/sushi-masa-japanese-r...           146   \n",
       "1  https://www.yelp.com/biz/konnichiwa-greenville...            33   \n",
       "\n",
       "                                          categories  rating  \\\n",
       "0        [{'alias': 'sushi', 'title': 'Sushi Bars'}]     4.5   \n",
       "1  [{'alias': 'sushi', 'title': 'Sushi Bars'}, {'...     4.0   \n",
       "\n",
       "                                         coordinates transactions price  \\\n",
       "0  {'latitude': 34.8512725830078, 'longitude': -8...   [delivery]    $$   \n",
       "1  {'latitude': 34.845952342825115, 'longitude': ...           []   NaN   \n",
       "\n",
       "                                            location         phone  \\\n",
       "0  {'address1': '8590 Pelham Rd', 'address2': 'St...  +18642882227   \n",
       "1  {'address1': '101 Falls Park Dr', 'address2': ...  +18642524436   \n",
       "\n",
       "    display_phone      distance  \n",
       "0  (864) 288-2227  11481.830881  \n",
       "1  (864) 252-4436   4184.255183  "
      ]
     },
     "execution_count": 6,
     "metadata": {},
     "output_type": "execute_result"
    }
   ],
   "source": [
    "sushi0 = pd.DataFrame(sushi_0['businesses'])\n",
    "sushi0.head(2)"
   ]
  },
  {
   "cell_type": "code",
   "execution_count": 7,
   "id": "2c0e8b32",
   "metadata": {
    "id": "2c0e8b32",
    "outputId": "62b73eed-375a-4f29-e895-f16a0505718d"
   },
   "outputs": [
    {
     "data": {
      "text/plain": [
       "100"
      ]
     },
     "execution_count": 7,
     "metadata": {},
     "output_type": "execute_result"
    }
   ],
   "source": [
    "sushi_0['total']"
   ]
  },
  {
   "cell_type": "markdown",
   "id": "05880fca",
   "metadata": {
    "id": "05880fca"
   },
   "source": [
    "Students are only asked to do the first two pages. Notice the offset in the code below is set to 20"
   ]
  },
  {
   "cell_type": "code",
   "execution_count": 8,
   "id": "e88692b6",
   "metadata": {
    "id": "e88692b6"
   },
   "outputs": [],
   "source": [
    "# 92 will require 5 pages\n",
    "# The assignment only asks for two pages\n",
    "sushi_20 = yelp_api.search_query(location='Greenville, SC',\n",
    "                                       term='sushi',\n",
    "                               offset = 20)"
   ]
  },
  {
   "cell_type": "code",
   "execution_count": 9,
   "id": "a8be6620",
   "metadata": {
    "id": "a8be6620",
    "outputId": "bb84e3ee-3a7c-47f5-815e-461c79623ef8"
   },
   "outputs": [
    {
     "data": {
      "text/html": [
       "<div>\n",
       "<style scoped>\n",
       "    .dataframe tbody tr th:only-of-type {\n",
       "        vertical-align: middle;\n",
       "    }\n",
       "\n",
       "    .dataframe tbody tr th {\n",
       "        vertical-align: top;\n",
       "    }\n",
       "\n",
       "    .dataframe thead th {\n",
       "        text-align: right;\n",
       "    }\n",
       "</style>\n",
       "<table border=\"1\" class=\"dataframe\">\n",
       "  <thead>\n",
       "    <tr style=\"text-align: right;\">\n",
       "      <th></th>\n",
       "      <th>id</th>\n",
       "      <th>alias</th>\n",
       "      <th>name</th>\n",
       "      <th>image_url</th>\n",
       "      <th>is_closed</th>\n",
       "      <th>url</th>\n",
       "      <th>review_count</th>\n",
       "      <th>categories</th>\n",
       "      <th>rating</th>\n",
       "      <th>coordinates</th>\n",
       "      <th>transactions</th>\n",
       "      <th>location</th>\n",
       "      <th>phone</th>\n",
       "      <th>display_phone</th>\n",
       "      <th>distance</th>\n",
       "      <th>price</th>\n",
       "    </tr>\n",
       "  </thead>\n",
       "  <tbody>\n",
       "    <tr>\n",
       "      <th>0</th>\n",
       "      <td>vILtQZOAP_LqkV_BB4e0cQ</td>\n",
       "      <td>chef-21-sushi-burger-simpsonville</td>\n",
       "      <td>Chef 21 Sushi Burger</td>\n",
       "      <td>https://s3-media4.fl.yelpcdn.com/bphoto/BXtxx2...</td>\n",
       "      <td>False</td>\n",
       "      <td>https://www.yelp.com/biz/chef-21-sushi-burger-...</td>\n",
       "      <td>57</td>\n",
       "      <td>[{'alias': 'sushi', 'title': 'Sushi Bars'}, {'...</td>\n",
       "      <td>4.0</td>\n",
       "      <td>{'latitude': 34.706319, 'longitude': -82.255358}</td>\n",
       "      <td>[delivery, pickup]</td>\n",
       "      <td>{'address1': '699 Fairview Rd', 'address2': No...</td>\n",
       "      <td>+18646882198</td>\n",
       "      <td>(864) 688-2198</td>\n",
       "      <td>18273.754985</td>\n",
       "      <td>NaN</td>\n",
       "    </tr>\n",
       "    <tr>\n",
       "      <th>1</th>\n",
       "      <td>HlMRxvnD7jC6uMUYZCsDCg</td>\n",
       "      <td>tsunami-japanese-sushi-bar-and-grill-greenville</td>\n",
       "      <td>Tsunami Japanese Sushi Bar and Grill</td>\n",
       "      <td>https://s3-media1.fl.yelpcdn.com/bphoto/ijTJAV...</td>\n",
       "      <td>False</td>\n",
       "      <td>https://www.yelp.com/biz/tsunami-japanese-sush...</td>\n",
       "      <td>123</td>\n",
       "      <td>[{'alias': 'japanese', 'title': 'Japanese'}, {...</td>\n",
       "      <td>3.5</td>\n",
       "      <td>{'latitude': 34.85197, 'longitude': -82.39704}</td>\n",
       "      <td>[delivery, pickup]</td>\n",
       "      <td>{'address1': '106 E North St', 'address2': '',...</td>\n",
       "      <td>+18644671055</td>\n",
       "      <td>(864) 467-1055</td>\n",
       "      <td>3633.796422</td>\n",
       "      <td>$$</td>\n",
       "    </tr>\n",
       "  </tbody>\n",
       "</table>\n",
       "</div>"
      ],
      "text/plain": [
       "                       id                                            alias  \\\n",
       "0  vILtQZOAP_LqkV_BB4e0cQ                chef-21-sushi-burger-simpsonville   \n",
       "1  HlMRxvnD7jC6uMUYZCsDCg  tsunami-japanese-sushi-bar-and-grill-greenville   \n",
       "\n",
       "                                   name  \\\n",
       "0                  Chef 21 Sushi Burger   \n",
       "1  Tsunami Japanese Sushi Bar and Grill   \n",
       "\n",
       "                                           image_url  is_closed  \\\n",
       "0  https://s3-media4.fl.yelpcdn.com/bphoto/BXtxx2...      False   \n",
       "1  https://s3-media1.fl.yelpcdn.com/bphoto/ijTJAV...      False   \n",
       "\n",
       "                                                 url  review_count  \\\n",
       "0  https://www.yelp.com/biz/chef-21-sushi-burger-...            57   \n",
       "1  https://www.yelp.com/biz/tsunami-japanese-sush...           123   \n",
       "\n",
       "                                          categories  rating  \\\n",
       "0  [{'alias': 'sushi', 'title': 'Sushi Bars'}, {'...     4.0   \n",
       "1  [{'alias': 'japanese', 'title': 'Japanese'}, {...     3.5   \n",
       "\n",
       "                                        coordinates        transactions  \\\n",
       "0  {'latitude': 34.706319, 'longitude': -82.255358}  [delivery, pickup]   \n",
       "1    {'latitude': 34.85197, 'longitude': -82.39704}  [delivery, pickup]   \n",
       "\n",
       "                                            location         phone  \\\n",
       "0  {'address1': '699 Fairview Rd', 'address2': No...  +18646882198   \n",
       "1  {'address1': '106 E North St', 'address2': '',...  +18644671055   \n",
       "\n",
       "    display_phone      distance price  \n",
       "0  (864) 688-2198  18273.754985   NaN  \n",
       "1  (864) 467-1055   3633.796422    $$  "
      ]
     },
     "execution_count": 9,
     "metadata": {},
     "output_type": "execute_result"
    }
   ],
   "source": [
    "sushi20 = pd.DataFrame(sushi_20['businesses'])\n",
    "sushi20.head(2)"
   ]
  },
  {
   "cell_type": "code",
   "execution_count": 10,
   "id": "4dfed487",
   "metadata": {
    "id": "4dfed487",
    "outputId": "d3502195-bdd1-4164-a91a-352053b85551"
   },
   "outputs": [
    {
     "data": {
      "text/html": [
       "<div>\n",
       "<style scoped>\n",
       "    .dataframe tbody tr th:only-of-type {\n",
       "        vertical-align: middle;\n",
       "    }\n",
       "\n",
       "    .dataframe tbody tr th {\n",
       "        vertical-align: top;\n",
       "    }\n",
       "\n",
       "    .dataframe thead th {\n",
       "        text-align: right;\n",
       "    }\n",
       "</style>\n",
       "<table border=\"1\" class=\"dataframe\">\n",
       "  <thead>\n",
       "    <tr style=\"text-align: right;\">\n",
       "      <th></th>\n",
       "      <th>id</th>\n",
       "      <th>alias</th>\n",
       "      <th>name</th>\n",
       "      <th>image_url</th>\n",
       "      <th>is_closed</th>\n",
       "      <th>url</th>\n",
       "      <th>review_count</th>\n",
       "      <th>categories</th>\n",
       "      <th>rating</th>\n",
       "      <th>coordinates</th>\n",
       "      <th>transactions</th>\n",
       "      <th>price</th>\n",
       "      <th>location</th>\n",
       "      <th>phone</th>\n",
       "      <th>display_phone</th>\n",
       "      <th>distance</th>\n",
       "    </tr>\n",
       "  </thead>\n",
       "  <tbody>\n",
       "    <tr>\n",
       "      <th>0</th>\n",
       "      <td>zG_XOAFi9Y560WJ1RvghBw</td>\n",
       "      <td>sushi-masa-japanese-restaurant-greenville</td>\n",
       "      <td>Sushi-Masa Japanese Restaurant</td>\n",
       "      <td>https://s3-media1.fl.yelpcdn.com/bphoto/zsRavZ...</td>\n",
       "      <td>False</td>\n",
       "      <td>https://www.yelp.com/biz/sushi-masa-japanese-r...</td>\n",
       "      <td>146</td>\n",
       "      <td>[{'alias': 'sushi', 'title': 'Sushi Bars'}]</td>\n",
       "      <td>4.5</td>\n",
       "      <td>{'latitude': 34.8512725830078, 'longitude': -8...</td>\n",
       "      <td>[delivery]</td>\n",
       "      <td>$$</td>\n",
       "      <td>{'address1': '8590 Pelham Rd', 'address2': 'St...</td>\n",
       "      <td>+18642882227</td>\n",
       "      <td>(864) 288-2227</td>\n",
       "      <td>11481.830881</td>\n",
       "    </tr>\n",
       "    <tr>\n",
       "      <th>1</th>\n",
       "      <td>RGRk1ioORwm_FIX8PM732Q</td>\n",
       "      <td>konnichiwa-greenville</td>\n",
       "      <td>Konnichiwa</td>\n",
       "      <td>https://s3-media3.fl.yelpcdn.com/bphoto/p47H0_...</td>\n",
       "      <td>False</td>\n",
       "      <td>https://www.yelp.com/biz/konnichiwa-greenville...</td>\n",
       "      <td>33</td>\n",
       "      <td>[{'alias': 'sushi', 'title': 'Sushi Bars'}, {'...</td>\n",
       "      <td>4.0</td>\n",
       "      <td>{'latitude': 34.845952342825115, 'longitude': ...</td>\n",
       "      <td>[]</td>\n",
       "      <td>NaN</td>\n",
       "      <td>{'address1': '101 Falls Park Dr', 'address2': ...</td>\n",
       "      <td>+18642524436</td>\n",
       "      <td>(864) 252-4436</td>\n",
       "      <td>4184.255183</td>\n",
       "    </tr>\n",
       "    <tr>\n",
       "      <th>2</th>\n",
       "      <td>babpQQHQSGjVxS1Li7Q2lA</td>\n",
       "      <td>otto-izakaya-downtown-greenville</td>\n",
       "      <td>Otto Izakaya - Downtown</td>\n",
       "      <td>https://s3-media3.fl.yelpcdn.com/bphoto/E9pMtT...</td>\n",
       "      <td>False</td>\n",
       "      <td>https://www.yelp.com/biz/otto-izakaya-downtown...</td>\n",
       "      <td>141</td>\n",
       "      <td>[{'alias': 'izakaya', 'title': 'Izakaya'}, {'a...</td>\n",
       "      <td>4.0</td>\n",
       "      <td>{'latitude': 34.84428, 'longitude': -82.406}</td>\n",
       "      <td>[delivery, restaurant_reservation]</td>\n",
       "      <td>$$</td>\n",
       "      <td>{'address1': '802 S Main St', 'address2': '', ...</td>\n",
       "      <td>+18645685880</td>\n",
       "      <td>(864) 568-5880</td>\n",
       "      <td>4427.933494</td>\n",
       "    </tr>\n",
       "  </tbody>\n",
       "</table>\n",
       "</div>"
      ],
      "text/plain": [
       "                       id                                      alias  \\\n",
       "0  zG_XOAFi9Y560WJ1RvghBw  sushi-masa-japanese-restaurant-greenville   \n",
       "1  RGRk1ioORwm_FIX8PM732Q                      konnichiwa-greenville   \n",
       "2  babpQQHQSGjVxS1Li7Q2lA           otto-izakaya-downtown-greenville   \n",
       "\n",
       "                             name  \\\n",
       "0  Sushi-Masa Japanese Restaurant   \n",
       "1                      Konnichiwa   \n",
       "2         Otto Izakaya - Downtown   \n",
       "\n",
       "                                           image_url  is_closed  \\\n",
       "0  https://s3-media1.fl.yelpcdn.com/bphoto/zsRavZ...      False   \n",
       "1  https://s3-media3.fl.yelpcdn.com/bphoto/p47H0_...      False   \n",
       "2  https://s3-media3.fl.yelpcdn.com/bphoto/E9pMtT...      False   \n",
       "\n",
       "                                                 url  review_count  \\\n",
       "0  https://www.yelp.com/biz/sushi-masa-japanese-r...           146   \n",
       "1  https://www.yelp.com/biz/konnichiwa-greenville...            33   \n",
       "2  https://www.yelp.com/biz/otto-izakaya-downtown...           141   \n",
       "\n",
       "                                          categories  rating  \\\n",
       "0        [{'alias': 'sushi', 'title': 'Sushi Bars'}]     4.5   \n",
       "1  [{'alias': 'sushi', 'title': 'Sushi Bars'}, {'...     4.0   \n",
       "2  [{'alias': 'izakaya', 'title': 'Izakaya'}, {'a...     4.0   \n",
       "\n",
       "                                         coordinates  \\\n",
       "0  {'latitude': 34.8512725830078, 'longitude': -8...   \n",
       "1  {'latitude': 34.845952342825115, 'longitude': ...   \n",
       "2       {'latitude': 34.84428, 'longitude': -82.406}   \n",
       "\n",
       "                         transactions price  \\\n",
       "0                          [delivery]    $$   \n",
       "1                                  []   NaN   \n",
       "2  [delivery, restaurant_reservation]    $$   \n",
       "\n",
       "                                            location         phone  \\\n",
       "0  {'address1': '8590 Pelham Rd', 'address2': 'St...  +18642882227   \n",
       "1  {'address1': '101 Falls Park Dr', 'address2': ...  +18642524436   \n",
       "2  {'address1': '802 S Main St', 'address2': '', ...  +18645685880   \n",
       "\n",
       "    display_phone      distance  \n",
       "0  (864) 288-2227  11481.830881  \n",
       "1  (864) 252-4436   4184.255183  \n",
       "2  (864) 568-5880   4427.933494  "
      ]
     },
     "metadata": {},
     "output_type": "display_data"
    },
    {
     "data": {
      "text/html": [
       "<div>\n",
       "<style scoped>\n",
       "    .dataframe tbody tr th:only-of-type {\n",
       "        vertical-align: middle;\n",
       "    }\n",
       "\n",
       "    .dataframe tbody tr th {\n",
       "        vertical-align: top;\n",
       "    }\n",
       "\n",
       "    .dataframe thead th {\n",
       "        text-align: right;\n",
       "    }\n",
       "</style>\n",
       "<table border=\"1\" class=\"dataframe\">\n",
       "  <thead>\n",
       "    <tr style=\"text-align: right;\">\n",
       "      <th></th>\n",
       "      <th>id</th>\n",
       "      <th>alias</th>\n",
       "      <th>name</th>\n",
       "      <th>image_url</th>\n",
       "      <th>is_closed</th>\n",
       "      <th>url</th>\n",
       "      <th>review_count</th>\n",
       "      <th>categories</th>\n",
       "      <th>rating</th>\n",
       "      <th>coordinates</th>\n",
       "      <th>transactions</th>\n",
       "      <th>price</th>\n",
       "      <th>location</th>\n",
       "      <th>phone</th>\n",
       "      <th>display_phone</th>\n",
       "      <th>distance</th>\n",
       "    </tr>\n",
       "  </thead>\n",
       "  <tbody>\n",
       "    <tr>\n",
       "      <th>37</th>\n",
       "      <td>fjpQXddk1h5vGtS9kLjoJg</td>\n",
       "      <td>red-bowl-greenville-greenville</td>\n",
       "      <td>Red Bowl - Greenville</td>\n",
       "      <td>https://s3-media2.fl.yelpcdn.com/bphoto/9uBE_w...</td>\n",
       "      <td>False</td>\n",
       "      <td>https://www.yelp.com/biz/red-bowl-greenville-g...</td>\n",
       "      <td>138</td>\n",
       "      <td>[{'alias': 'japanese', 'title': 'Japanese'}, {...</td>\n",
       "      <td>3.0</td>\n",
       "      <td>{'latitude': 34.841634, 'longitude': -82.3633539}</td>\n",
       "      <td>[delivery]</td>\n",
       "      <td>$$</td>\n",
       "      <td>{'address1': '27 S Pleasantburg Dr', 'address2...</td>\n",
       "      <td>+18642717977</td>\n",
       "      <td>(864) 271-7977</td>\n",
       "      <td>842.088788</td>\n",
       "    </tr>\n",
       "    <tr>\n",
       "      <th>38</th>\n",
       "      <td>Mh9a3Zc78w46m02fCgVY-A</td>\n",
       "      <td>asia-pacific-super-market-greenville-3</td>\n",
       "      <td>Asia Pacific Super Market</td>\n",
       "      <td>https://s3-media1.fl.yelpcdn.com/bphoto/C0McWe...</td>\n",
       "      <td>False</td>\n",
       "      <td>https://www.yelp.com/biz/asia-pacific-super-ma...</td>\n",
       "      <td>166</td>\n",
       "      <td>[{'alias': 'intlgrocery', 'title': 'Internatio...</td>\n",
       "      <td>4.5</td>\n",
       "      <td>{'latitude': 34.85289, 'longitude': -82.35708}</td>\n",
       "      <td>[delivery]</td>\n",
       "      <td>$$</td>\n",
       "      <td>{'address1': '420 N Pleasantburg Dr', 'address...</td>\n",
       "      <td>+18646031377</td>\n",
       "      <td>(864) 603-1377</td>\n",
       "      <td>653.049027</td>\n",
       "    </tr>\n",
       "    <tr>\n",
       "      <th>39</th>\n",
       "      <td>msWJkhRnS5rgYnwn8OoM4g</td>\n",
       "      <td>kanpai-of-toyko-greenville</td>\n",
       "      <td>Kanpai of Toyko</td>\n",
       "      <td>https://s3-media1.fl.yelpcdn.com/bphoto/RvJy17...</td>\n",
       "      <td>False</td>\n",
       "      <td>https://www.yelp.com/biz/kanpai-of-toyko-green...</td>\n",
       "      <td>124</td>\n",
       "      <td>[{'alias': 'japanese', 'title': 'Japanese'}, {...</td>\n",
       "      <td>2.0</td>\n",
       "      <td>{'latitude': 34.8464317321777, 'longitude': -8...</td>\n",
       "      <td>[delivery]</td>\n",
       "      <td>$$</td>\n",
       "      <td>{'address1': '533 Haywood Rd', 'address2': '',...</td>\n",
       "      <td>+18642340334</td>\n",
       "      <td>(864) 234-0334</td>\n",
       "      <td>1531.255857</td>\n",
       "    </tr>\n",
       "  </tbody>\n",
       "</table>\n",
       "</div>"
      ],
      "text/plain": [
       "                        id                                   alias  \\\n",
       "37  fjpQXddk1h5vGtS9kLjoJg          red-bowl-greenville-greenville   \n",
       "38  Mh9a3Zc78w46m02fCgVY-A  asia-pacific-super-market-greenville-3   \n",
       "39  msWJkhRnS5rgYnwn8OoM4g              kanpai-of-toyko-greenville   \n",
       "\n",
       "                         name  \\\n",
       "37      Red Bowl - Greenville   \n",
       "38  Asia Pacific Super Market   \n",
       "39            Kanpai of Toyko   \n",
       "\n",
       "                                            image_url  is_closed  \\\n",
       "37  https://s3-media2.fl.yelpcdn.com/bphoto/9uBE_w...      False   \n",
       "38  https://s3-media1.fl.yelpcdn.com/bphoto/C0McWe...      False   \n",
       "39  https://s3-media1.fl.yelpcdn.com/bphoto/RvJy17...      False   \n",
       "\n",
       "                                                  url  review_count  \\\n",
       "37  https://www.yelp.com/biz/red-bowl-greenville-g...           138   \n",
       "38  https://www.yelp.com/biz/asia-pacific-super-ma...           166   \n",
       "39  https://www.yelp.com/biz/kanpai-of-toyko-green...           124   \n",
       "\n",
       "                                           categories  rating  \\\n",
       "37  [{'alias': 'japanese', 'title': 'Japanese'}, {...     3.0   \n",
       "38  [{'alias': 'intlgrocery', 'title': 'Internatio...     4.5   \n",
       "39  [{'alias': 'japanese', 'title': 'Japanese'}, {...     2.0   \n",
       "\n",
       "                                          coordinates transactions price  \\\n",
       "37  {'latitude': 34.841634, 'longitude': -82.3633539}   [delivery]    $$   \n",
       "38     {'latitude': 34.85289, 'longitude': -82.35708}   [delivery]    $$   \n",
       "39  {'latitude': 34.8464317321777, 'longitude': -8...   [delivery]    $$   \n",
       "\n",
       "                                             location         phone  \\\n",
       "37  {'address1': '27 S Pleasantburg Dr', 'address2...  +18642717977   \n",
       "38  {'address1': '420 N Pleasantburg Dr', 'address...  +18646031377   \n",
       "39  {'address1': '533 Haywood Rd', 'address2': '',...  +18642340334   \n",
       "\n",
       "     display_phone     distance  \n",
       "37  (864) 271-7977   842.088788  \n",
       "38  (864) 603-1377   653.049027  \n",
       "39  (864) 234-0334  1531.255857  "
      ]
     },
     "metadata": {},
     "output_type": "display_data"
    }
   ],
   "source": [
    "#now concatenate all pages\n",
    "all_sushi = pd.concat([sushi0, sushi20],\n",
    "                      ignore_index=True)\n",
    "display(all_sushi.head(3), all_sushi.tail(3))"
   ]
  },
  {
   "cell_type": "markdown",
   "id": "2c7aa00e",
   "metadata": {
    "id": "2c7aa00e"
   },
   "source": [
    "The final dataframe should have 40 entries"
   ]
  },
  {
   "cell_type": "code",
   "execution_count": null,
   "id": "3V-u3cqtUWa9",
   "metadata": {
    "id": "3V-u3cqtUWa9"
   },
   "outputs": [],
   "source": [
    "all_sushi.to_json(orient='records')"
   ]
  }
 ],
 "metadata": {
  "colab": {
   "provenance": []
  },
  "kernelspec": {
   "display_name": "Python (dojo-env)",
   "language": "python",
   "name": "dojo-env"
  },
  "language_info": {
   "codemirror_mode": {
    "name": "ipython",
    "version": 3
   },
   "file_extension": ".py",
   "mimetype": "text/x-python",
   "name": "python",
   "nbconvert_exporter": "python",
   "pygments_lexer": "ipython3",
   "version": "3.8.13"
  },
  "toc": {
   "base_numbering": 1,
   "nav_menu": {},
   "number_sections": true,
   "sideBar": true,
   "skip_h1_title": false,
   "title_cell": "Table of Contents",
   "title_sidebar": "Contents",
   "toc_cell": false,
   "toc_position": {},
   "toc_section_display": true,
   "toc_window_display": false
  }
 },
 "nbformat": 4,
 "nbformat_minor": 5
}
